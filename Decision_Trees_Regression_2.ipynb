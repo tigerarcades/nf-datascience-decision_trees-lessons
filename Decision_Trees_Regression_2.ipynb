{
 "cells": [
  {
   "cell_type": "markdown",
   "metadata": {},
   "source": [
    "### Decision Tree Regression:\n",
    "Decision tree regression observes features of an object and trains a model in the structure of a tree to predict data in the future to produce meaningful continuous output. Continuous output means that the output/result is not discrete, i.e., it is not represented just by a discrete, known set of numbers or values.\n",
    "\n",
    "#### Discrete output example: A weather prediction model that predicts whether or not there’ll be rain in a particular day.\n",
    "\n",
    "\n",
    "##### Continuous output example: A profit prediction model that states the probable profit that can be generated from the sale of a product.\n",
    "\n",
    "Here, continuous values are predicted with the help of a decision tree regression model."
   ]
  },
  {
   "cell_type": "markdown",
   "metadata": {},
   "source": [
    "#### Step 1: Import the required libraries"
   ]
  },
  {
   "cell_type": "code",
   "execution_count": 1,
   "metadata": {
    "collapsed": true
   },
   "outputs": [],
   "source": [
    "# import numpy package for arrays and stuff \n",
    "import numpy as np  \n",
    "  \n",
    "# import matplotlib.pyplot for plotting our result \n",
    "import matplotlib.pyplot as plt \n",
    "  \n",
    "# import pandas for importing csv files  \n",
    "import pandas as pd  "
   ]
  },
  {
   "cell_type": "markdown",
   "metadata": {},
   "source": [
    "#### Step 2: Initialize and print the Dataset."
   ]
  },
  {
   "cell_type": "code",
   "execution_count": 17,
   "metadata": {
    "collapsed": true
   },
   "outputs": [],
   "source": [
    "# import dataset \n",
    "# dataset = pd.read_csv('Data.csv')  \n",
    "# alternatively open up .csv file to read data \n",
    "  \n",
    "dataset = np.array([\n",
    "    ['Asset Flip', 100, 1000], \n",
    "    ['Text Based', 500, 3000], \n",
    "    ['Visual Novel', 1500, 5000], \n",
    "    ['2D Pixel Art', 3500, 8000], \n",
    "    ['2D Vector Art', 5000, 6500], \n",
    "    ['Strategy', 6000, 7000], \n",
    "    ['First Person Shooter', 8000, 15000], \n",
    "    ['Simulator', 9500, 20000], \n",
    "    ['Racing', 12000, 21000], \n",
    "    ['RPG', 14000, 25000], \n",
    "    ['Sandbox', 15500, 27000], \n",
    "    ['Open-World', 16500, 30000], \n",
    "    ['MMOFPS', 25000, 52000], \n",
    "    ['MMORPG', 30000, 80000] \n",
    "])"
   ]
  },
  {
   "cell_type": "code",
   "execution_count": 18,
   "metadata": {},
   "outputs": [
    {
     "name": "stdout",
     "output_type": "stream",
     "text": [
      "[['Asset Flip' '100' '1000']\n",
      " ['Text Based' '500' '3000']\n",
      " ['Visual Novel' '1500' '5000']\n",
      " ['2D Pixel Art' '3500' '8000']\n",
      " ['2D Vector Art' '5000' '6500']\n",
      " ['Strategy' '6000' '7000']\n",
      " ['First Person Shooter' '8000' '15000']\n",
      " ['Simulator' '9500' '20000']\n",
      " ['Racing' '12000' '21000']\n",
      " ['RPG' '14000' '25000']\n",
      " ['Sandbox' '15500' '27000']\n",
      " ['Open-World' '16500' '30000']\n",
      " ['MMOFPS' '25000' '52000']\n",
      " ['MMORPG' '30000' '80000']]\n"
     ]
    }
   ],
   "source": [
    "# print the dataset \n",
    "print(dataset)"
   ]
  },
  {
   "cell_type": "markdown",
   "metadata": {},
   "source": [
    "#### Step 3: Select all the rows and column 1 from dataset to “X”."
   ]
  },
  {
   "cell_type": "code",
   "execution_count": 19,
   "metadata": {},
   "outputs": [
    {
     "name": "stdout",
     "output_type": "stream",
     "text": [
      "[[  100]\n",
      " [  500]\n",
      " [ 1500]\n",
      " [ 3500]\n",
      " [ 5000]\n",
      " [ 6000]\n",
      " [ 8000]\n",
      " [ 9500]\n",
      " [12000]\n",
      " [14000]\n",
      " [15500]\n",
      " [16500]\n",
      " [25000]\n",
      " [30000]]\n"
     ]
    }
   ],
   "source": [
    "# select all rows by : and column 1 \n",
    "# by 1:2 representing features \n",
    "X = dataset[:, 1:2].astype(int)  \n",
    "  \n",
    "# print X \n",
    "print(X) "
   ]
  },
  {
   "cell_type": "markdown",
   "metadata": {},
   "source": [
    "#### Step 4: Select all of the rows and column 2 from dataset to “y”"
   ]
  },
  {
   "cell_type": "code",
   "execution_count": 20,
   "metadata": {},
   "outputs": [
    {
     "name": "stdout",
     "output_type": "stream",
     "text": [
      "[ 1000  3000  5000  8000  6500  7000 15000 20000 21000 25000 27000 30000\n",
      " 52000 80000]\n"
     ]
    }
   ],
   "source": [
    "# select all rows by : and column 2 \n",
    "# by 2 to Y representing labels \n",
    "y = dataset[:, 2].astype(int)  \n",
    "  \n",
    "# print y \n",
    "print(y) "
   ]
  },
  {
   "cell_type": "markdown",
   "metadata": {},
   "source": [
    "#### Step 5: Fit decision tree regressor to the dataset"
   ]
  },
  {
   "cell_type": "code",
   "execution_count": 21,
   "metadata": {},
   "outputs": [
    {
     "data": {
      "text/plain": [
       "DecisionTreeRegressor(criterion='mse', max_depth=None, max_features=None,\n",
       "                      max_leaf_nodes=None, min_impurity_decrease=0.0,\n",
       "                      min_impurity_split=None, min_samples_leaf=1,\n",
       "                      min_samples_split=2, min_weight_fraction_leaf=0.0,\n",
       "                      presort=False, random_state=0, splitter='best')"
      ]
     },
     "execution_count": 21,
     "metadata": {},
     "output_type": "execute_result"
    }
   ],
   "source": [
    "# import the regressor \n",
    "from sklearn.tree import DecisionTreeRegressor  \n",
    "  \n",
    "# create a regressor object \n",
    "regressor = DecisionTreeRegressor(random_state = 0)  \n",
    "  \n",
    "# fit the regressor with X and Y data \n",
    "regressor.fit(X, y) "
   ]
  },
  {
   "cell_type": "markdown",
   "metadata": {},
   "source": [
    "####  Step 6: Predicting a new value"
   ]
  },
  {
   "cell_type": "code",
   "execution_count": 25,
   "metadata": {},
   "outputs": [
    {
     "name": "stdout",
     "output_type": "stream",
     "text": [
      "Predicted price: [8000.]\n"
     ]
    }
   ],
   "source": [
    "# predicting a new value \n",
    "  \n",
    "# test the output by changing values, like 3750 \n",
    "y_pred = regressor.predict([[3750]]) \n",
    "  \n",
    "# print the predicted price \n",
    "print(\"Predicted price: {}\".format(y_pred)) "
   ]
  },
  {
   "cell_type": "markdown",
   "metadata": {},
   "source": [
    "#### Step 7: Visualising the result"
   ]
  },
  {
   "cell_type": "code",
   "execution_count": 26,
   "metadata": {},
   "outputs": [
    {
     "data": {
      "image/png": "[encoded data removed]",
      "text/plain": [
       "<Figure size 432x288 with 1 Axes>"
      ]
     },
     "metadata": {
      "needs_background": "light"
     },
     "output_type": "display_data"
    }
   ],
   "source": [
    "# arange for creating a range of values  \n",
    "# from min value of X to max value of X  \n",
    "# with a difference of 0.01 between two \n",
    "# consecutive values \n",
    "X_grid = np.arange(min(X), max(X), 0.01) \n",
    "  \n",
    "# reshape for reshaping the data into  \n",
    "# a len(X_grid)*1 array, i.e. to make \n",
    "# a column out of the X_grid values \n",
    "X_grid = X_grid.reshape((len(X_grid), 1))  \n",
    "  \n",
    "# scatter plot for original data \n",
    "plt.scatter(X, y, color = 'red') \n",
    "  \n",
    "# plot predicted data \n",
    "plt.plot(X_grid, regressor.predict(X_grid), color = 'blue')  \n",
    "  \n",
    "# specify title \n",
    "plt.title('Profit to Production Cost (Decision Tree Regression)')  \n",
    "  \n",
    "# specify X axis label \n",
    "plt.xlabel('Production Cost') \n",
    "  \n",
    "# specify Y axis label \n",
    "plt.ylabel('Profit') \n",
    "  \n",
    "# show the plot \n",
    "plt.show() "
   ]
  },
  {
   "cell_type": "markdown",
   "metadata": {},
   "source": [
    "#### Step 8: The tree is finally exported and shown in the TREE STRUCTURE below, visualized using http://www.webgraphviz.com/ by copying the data from the ‘tree.dot’ file."
   ]
  },
  {
   "cell_type": "code",
   "execution_count": 27,
   "metadata": {
    "collapsed": true
   },
   "outputs": [],
   "source": [
    "# import export_graphviz \n",
    "from sklearn.tree import export_graphviz  \n",
    "  \n",
    "# export the decision tree to a tree.dot file \n",
    "# for visualizing the plot easily anywhere \n",
    "export_graphviz(regressor, out_file ='tree.dot', \n",
    "               feature_names =['Production Cost']) "
   ]
  },
  {
   "cell_type": "code",
   "execution_count": null,
   "metadata": {
    "collapsed": true
   },
   "outputs": [],
   "source": []
  }
 ],
 "metadata": {
  "kernelspec": {
   "display_name": "Python 3",
   "language": "python",
   "name": "python3"
  },
  "language_info": {
   "codemirror_mode": {
    "name": "ipython",
    "version": 3
   },
   "file_extension": ".py",
   "mimetype": "text/x-python",
   "name": "python",
   "nbconvert_exporter": "python",
   "pygments_lexer": "ipython3",
   "version": "3.6.6"
  }
 },
 "nbformat": 4,
 "nbformat_minor": 2
}
